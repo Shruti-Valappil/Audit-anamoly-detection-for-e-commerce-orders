{
 "cells": [
  {
   "cell_type": "markdown",
   "id": "2a4df980",
   "metadata": {},
   "source": [
    "# Audit Anamoly Detection for E-commerce Orders"
   ]
  },
  {
   "cell_type": "code",
   "execution_count": 12,
   "id": "d8561b20",
   "metadata": {},
   "outputs": [],
   "source": [
    "import pandas as pd\n",
    "\n",
    "# Loading key Olist datasets\n",
    "orders = pd.read_csv('olist_orders_dataset.csv')\n",
    "order_items = pd.read_csv('olist_order_items_dataset.csv')\n",
    "products = pd.read_csv('olist_products_dataset.csv')\n",
    "customers = pd.read_csv('olist_customers_dataset.csv')\n",
    "payments = pd.read_csv('olist_order_payments_dataset.csv')\n",
    "reviews = pd.read_csv('olist_order_reviews_dataset.csv')\n",
    "sellers = pd.read_csv('olist_sellers_dataset.csv')\n",
    "product_category_translation = pd.read_csv(\"olist_product_category_name_translation.csv\")\n",
    "\n",
    "df = pd.merge(orders, order_items, on = 'order_id', how = \"left\")\n",
    "df = pd.merge(df, products[[\"product_id\", \"product_category_name\"]], on = \"product_id\", how = \"left\")\n",
    "df = pd.merge(df, customers, on=\"customer_id\", how=\"left\")\n",
    "df = pd.merge(df, payments.groupby(\"order_id\").agg({\"payment_value\":\"sum\"}).reset_index(), on=\"order_id\", how=\"left\")\n",
    "df = pd.merge(df, reviews[[\"order_id\", \"review_score\", \"review_comment_message\"]], on=\"order_id\", how=\"left\")\n",
    "df = pd.merge(df, sellers, on=\"seller_id\", how=\"left\")\n",
    "df = pd.merge(df, product_category_translation, on=\"product_category_name\", how=\"left\")\n",
    "\n",
    "df.to_csv(\"olist_datasets_merged.csv\", index=False)"
   ]
  },
  {
   "cell_type": "code",
   "execution_count": 14,
   "id": "adc60ec1",
   "metadata": {},
   "outputs": [
    {
     "data": {
      "text/plain": [
       "(114092, 26)"
      ]
     },
     "execution_count": 14,
     "metadata": {},
     "output_type": "execute_result"
    }
   ],
   "source": [
    "df.shape"
   ]
  },
  {
   "cell_type": "code",
   "execution_count": 15,
   "id": "60341f46",
   "metadata": {},
   "outputs": [],
   "source": [
    "# Data Preprocessing\n",
    "\n",
    "# Load the dataset\n",
    "df = pd.read_csv(\"olist_datasets_merged.csv\")\n",
    "\n",
    "# 1. Dropping rows with missing critical identifiers\n",
    "df_cleaned = df.dropna(subset=['order_item_id', 'product_id', 'seller_id', 'shipping_limit_date', 'price', 'freight_value', 'seller_zip_code_prefix', 'seller_city', 'seller_state'])\n",
    "\n",
    "# 2. Dropping rows with minor nulls in important operational fields\n",
    "df_cleaned = df_cleaned.dropna(subset=['order_approved_at', 'order_delivered_carrier_date', 'order_delivered_customer_date', 'payment_value', 'review_score'])\n",
    "\n",
    "# 3. Dropping rows with missing review_comment_message\n",
    "df_cleaned = df_cleaned[df_cleaned['review_comment_message'].str.strip() != '']\n",
    "\n",
    "# 4. Filling missing product category names with 'unknown'\n",
    "df_cleaned['product_category_name'] = df_cleaned['product_category_name'].fillna('unknown')\n",
    "df_cleaned['product_category_name_english'] = df_cleaned['product_category_name_english'].fillna('unknown')\n",
    "\n",
    "# Resetting index if needed\n",
    "df_cleaned.reset_index(drop=True, inplace=True)"
   ]
  },
  {
   "cell_type": "code",
   "execution_count": 16,
   "id": "75a7411e",
   "metadata": {},
   "outputs": [
    {
     "data": {
      "text/plain": [
       "(109966, 26)"
      ]
     },
     "execution_count": 16,
     "metadata": {},
     "output_type": "execute_result"
    }
   ],
   "source": [
    "df_cleaned.shape"
   ]
  },
  {
   "cell_type": "markdown",
   "id": "13cbbf42",
   "metadata": {},
   "source": [
    "## Anamoly 1 - High freight charges relative to product price"
   ]
  },
  {
   "cell_type": "code",
   "execution_count": 18,
   "id": "962eefd6",
   "metadata": {},
   "outputs": [],
   "source": [
    "df_cleaned['freight_price_anomalies'] = df_cleaned['freight_value'] > df_cleaned['price']"
   ]
  },
  {
   "cell_type": "markdown",
   "id": "4c63ae61",
   "metadata": {},
   "source": [
    "## Anamoly 2 - Outlier order prices"
   ]
  },
  {
   "cell_type": "code",
   "execution_count": 19,
   "id": "f6decafd",
   "metadata": {},
   "outputs": [],
   "source": [
    "Q1 = df_cleaned['price'].quantile(0.25)\n",
    "Q3 = df_cleaned['price'].quantile(0.75)\n",
    "IQR = Q3 - Q1\n",
    "df_cleaned['price_outliers'] = (df_cleaned['price'] < Q1 - 1.5 * IQR) | (df_cleaned['price'] > Q3 + 1.5 * IQR)"
   ]
  },
  {
   "cell_type": "markdown",
   "id": "678b0ece",
   "metadata": {},
   "source": [
    "## Anamoly 3 - Low review scores with high prices "
   ]
  },
  {
   "cell_type": "code",
   "execution_count": 20,
   "id": "88ad3a67",
   "metadata": {},
   "outputs": [],
   "source": [
    "price_75th = df_cleaned['price'].quantile(0.75)\n",
    "df_cleaned['low_review_high_price'] = (df_cleaned['review_score'] <= 2) & (df_cleaned['price'] > price_75th)"
   ]
  },
  {
   "cell_type": "markdown",
   "id": "274584e6",
   "metadata": {},
   "source": [
    "## Anamoly 4 - Duplicate orders"
   ]
  },
  {
   "cell_type": "code",
   "execution_count": 21,
   "id": "dbdda71a",
   "metadata": {},
   "outputs": [],
   "source": [
    "df_cleaned['duplicate_orders'] = df_cleaned.duplicated(subset='order_id', keep=False)"
   ]
  },
  {
   "cell_type": "markdown",
   "id": "cf6e2f40",
   "metadata": {},
   "source": [
    "## Anamoly 5 - Late Deliveries"
   ]
  },
  {
   "cell_type": "code",
   "execution_count": 23,
   "id": "6baa0d1f",
   "metadata": {},
   "outputs": [],
   "source": [
    "df_cleaned['late_deliveries'] = pd.to_datetime(df_cleaned['order_delivered_customer_date']) > pd.to_datetime(df_cleaned['order_estimated_delivery_date'])"
   ]
  },
  {
   "cell_type": "code",
   "execution_count": 24,
   "id": "a382b1ce",
   "metadata": {},
   "outputs": [
    {
     "data": {
      "text/plain": [
       "anomaly_type\n",
       "No Anomaly                68632\n",
       "Duplicate Order ID        19884\n",
       "Late Delivery              8557\n",
       "Price Outlier              7351\n",
       "Freight > Price            3634\n",
       "Low Review, High Price     1908\n",
       "Name: count, dtype: int64"
      ]
     },
     "execution_count": 24,
     "metadata": {},
     "output_type": "execute_result"
    }
   ],
   "source": [
    "def classify_anomaly(row):\n",
    "    if row.get('late_deliveries', False):\n",
    "        return 'Late Delivery'\n",
    "    elif row.get('freight_price_anomalies', False):\n",
    "        return 'Freight > Price'\n",
    "    elif row.get('price_outliers', False):\n",
    "        return 'Price Outlier'\n",
    "    elif row.get('low_review_high_price', False):\n",
    "        return 'Low Review, High Price'\n",
    "    elif row.get('duplicate_orders', False):\n",
    "        return 'Duplicate Order ID'\n",
    "    else:\n",
    "        return 'No Anomaly'\n",
    "\n",
    "df_cleaned['anomaly_type'] = df_cleaned.apply(classify_anomaly, axis=1)\n",
    "df_cleaned['anomaly_type'].value_counts()"
   ]
  },
  {
   "cell_type": "code",
   "execution_count": 25,
   "id": "098e5b9d",
   "metadata": {},
   "outputs": [],
   "source": [
    "df_cleaned.to_csv(\"olist_anomalies_flagged.csv\", index=False)"
   ]
  },
  {
   "cell_type": "code",
   "execution_count": null,
   "id": "e9ca9f64",
   "metadata": {},
   "outputs": [],
   "source": []
  }
 ],
 "metadata": {
  "kernelspec": {
   "display_name": "Python 3 (ipykernel)",
   "language": "python",
   "name": "python3"
  },
  "language_info": {
   "codemirror_mode": {
    "name": "ipython",
    "version": 3
   },
   "file_extension": ".py",
   "mimetype": "text/x-python",
   "name": "python",
   "nbconvert_exporter": "python",
   "pygments_lexer": "ipython3",
   "version": "3.11.5"
  }
 },
 "nbformat": 4,
 "nbformat_minor": 5
}
