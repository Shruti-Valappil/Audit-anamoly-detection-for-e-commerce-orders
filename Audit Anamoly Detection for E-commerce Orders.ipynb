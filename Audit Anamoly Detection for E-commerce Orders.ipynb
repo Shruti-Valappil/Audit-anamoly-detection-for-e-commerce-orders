{
 "cells": [
  {
   "cell_type": "markdown",
   "id": "2a4df980",
   "metadata": {},
   "source": [
    "# Audit Anamoly Detection for E-commerce Orders"
   ]
  },
  {
   "cell_type": "code",
   "execution_count": 4,
   "id": "d8561b20",
   "metadata": {},
   "outputs": [],
   "source": [
    "import pandas as pd\n",
    "\n",
    "# Loading key Olist datasets\n",
    "orders = pd.read_csv('olist_orders_dataset.csv')\n",
    "order_items = pd.read_csv('olist_order_items_dataset.csv')\n",
    "products = pd.read_csv('olist_products_dataset.csv')\n",
    "customers = pd.read_csv('olist_customers_dataset.csv')\n",
    "payments = pd.read_csv('olist_order_payments_dataset.csv')\n",
    "reviews = pd.read_csv('olist_order_reviews_dataset.csv')"
   ]
  },
  {
   "cell_type": "markdown",
   "id": "13cbbf42",
   "metadata": {},
   "source": [
    "## Anamoly 1 - High Quantity Orders"
   ]
  },
  {
   "cell_type": "code",
   "execution_count": 5,
   "id": "962eefd6",
   "metadata": {},
   "outputs": [],
   "source": [
    "# Counting items per order\n",
    "order_item_counts = order_items.groupby('order_id')['order_item_id'].count().reset_index()\n",
    "order_item_counts.columns = ['order_id', 'item_count']\n",
    "\n",
    "# Flagging high quantity orders (e.g., >5 items)\n",
    "high_quantity_orders = order_item_counts[order_item_counts['item_count'] > 5]"
   ]
  },
  {
   "cell_type": "markdown",
   "id": "4c63ae61",
   "metadata": {},
   "source": [
    "## Anamoly 2 - Suspicious Product Pricing"
   ]
  },
  {
   "cell_type": "code",
   "execution_count": 6,
   "id": "f6decafd",
   "metadata": {},
   "outputs": [],
   "source": [
    "# Merging product and item info\n",
    "item_prices = order_items.merge(products, on='product_id', how='left')\n",
    "\n",
    "# Calculating median price per category\n",
    "category_median = item_prices.groupby('product_category_name')['price'].median().reset_index()\n",
    "category_median.columns = ['product_category_name', 'category_median_price']\n",
    "\n",
    "# Joining back and flagging high-price items\n",
    "price_check = item_prices.merge(category_median, on='product_category_name', how='left')\n",
    "price_check['price_ratio'] = price_check['price'] / price_check['category_median_price']\n",
    "\n",
    "# Flagfing items 3x above category median\n",
    "suspicious_prices = price_check[price_check['price_ratio'] > 3]"
   ]
  },
  {
   "cell_type": "markdown",
   "id": "678b0ece",
   "metadata": {},
   "source": [
    "## Anamoly 3 - Filtering bad reviews & Refund Triggers"
   ]
  },
  {
   "cell_type": "code",
   "execution_count": 7,
   "id": "88ad3a67",
   "metadata": {},
   "outputs": [],
   "source": [
    "# Filtering 1-star reviews\n",
    "bad_reviews = reviews[reviews['review_score'] == 1]\n",
    "\n",
    "# Counting per customer\n",
    "orders_with_customers = orders.merge(customers, on='customer_id', how='left')\n",
    "bad_review_info = bad_reviews.merge(orders_with_customers, on='order_id', how='left')\n",
    "\n",
    "bad_review_counts = bad_review_info.groupby('customer_unique_id').size().reset_index(name='one_star_reviews')\n",
    "frequent_complainers = bad_review_counts[bad_review_counts['one_star_reviews'] >= 3]"
   ]
  },
  {
   "cell_type": "markdown",
   "id": "274584e6",
   "metadata": {},
   "source": [
    "## Anamoly 4 - Over Refunding"
   ]
  },
  {
   "cell_type": "code",
   "execution_count": 8,
   "id": "dbdda71a",
   "metadata": {},
   "outputs": [],
   "source": [
    "# Join payments with order items to compare payment vs. total price\n",
    "order_prices = order_items.groupby('order_id')['price'].sum().reset_index()\n",
    "payments_total = payments.groupby('order_id')['payment_value'].sum().reset_index()\n",
    "\n",
    "# Merge both\n",
    "payment_check = order_prices.merge(payments_total, on='order_id', how='left')\n",
    "\n",
    "# Flag orders with zero payment or payment > 2x total price\n",
    "payment_check['price_to_payment_ratio'] = payment_check['payment_value'] / payment_check['price']\n",
    "suspicious_payments = payment_check[(payment_check['payment_value'] == 0) | (payment_check['price_to_payment_ratio'] \n",
    "                                                                             > 2)]"
   ]
  },
  {
   "cell_type": "markdown",
   "id": "cf6e2f40",
   "metadata": {},
   "source": [
    "## Anamoly 5 - Late Delivers "
   ]
  },
  {
   "cell_type": "code",
   "execution_count": 10,
   "id": "6baa0d1f",
   "metadata": {},
   "outputs": [],
   "source": [
    "# Filter reviews with score <= 2\n",
    "bad_reviews = reviews[reviews['review_score'] <= 2]\n",
    "\n",
    "# Merge with order delivery dates\n",
    "delivery_check = orders.merge(bad_reviews, on='order_id', how='inner')\n",
    "\n",
    "# Convert date columns to datetime\n",
    "delivery_check['order_delivered_customer_date'] = pd.to_datetime(delivery_check['order_delivered_customer_date'])\n",
    "delivery_check['order_estimated_delivery_date'] = pd.to_datetime(delivery_check['order_estimated_delivery_date'])\n",
    "\n",
    "# Flag late deliveries\n",
    "delivery_check['delivery_late'] = delivery_check['order_delivered_customer_date'] > delivery_check['order_estimated_delivery_date']\n",
    "late_delivery_complaints = delivery_check[delivery_check['delivery_late'] == True]"
   ]
  },
  {
   "cell_type": "code",
   "execution_count": 11,
   "id": "bca49b7e",
   "metadata": {},
   "outputs": [],
   "source": [
    "# Exporting Anamoly checks into files to create a tableau dashboard\n",
    "high_quantity_orders.to_csv('anomaly_high_quantity_orders.csv', index=False)\n",
    "suspicious_prices.to_csv('anomaly_suspicious_prices.csv', index=False)\n",
    "frequent_complainers.to_csv('anomaly_frequent_reviewers.csv', index=False)\n",
    "suspicious_payments.to_csv('anomaly_suspicious_payments.csv', index=False)\n",
    "late_delivery_complaints.to_csv('anomaly_late_deliveries.csv', index=False)"
   ]
  },
  {
   "cell_type": "code",
   "execution_count": null,
   "id": "05bb9a9d",
   "metadata": {},
   "outputs": [],
   "source": []
  }
 ],
 "metadata": {
  "kernelspec": {
   "display_name": "Python 3 (ipykernel)",
   "language": "python",
   "name": "python3"
  },
  "language_info": {
   "codemirror_mode": {
    "name": "ipython",
    "version": 3
   },
   "file_extension": ".py",
   "mimetype": "text/x-python",
   "name": "python",
   "nbconvert_exporter": "python",
   "pygments_lexer": "ipython3",
   "version": "3.11.5"
  }
 },
 "nbformat": 4,
 "nbformat_minor": 5
}
